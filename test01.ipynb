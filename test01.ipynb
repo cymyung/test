{
  "nbformat": 4,
  "nbformat_minor": 0,
  "metadata": {
    "colab": {
      "provenance": [],
      "authorship_tag": "ABX9TyPxt02wzwB0NfLB7FaaMUD5",
      "include_colab_link": true
    },
    "kernelspec": {
      "name": "python3",
      "display_name": "Python 3"
    },
    "language_info": {
      "name": "python"
    }
  },
  "cells": [
    {
      "cell_type": "markdown",
      "metadata": {
        "id": "view-in-github",
        "colab_type": "text"
      },
      "source": [
        "<a href=\"https://colab.research.google.com/github/cymyung/test/blob/main/test01.ipynb\" target=\"_parent\"><img src=\"https://colab.research.google.com/assets/colab-badge.svg\" alt=\"Open In Colab\"/></a>"
      ]
    },
    {
      "cell_type": "code",
      "execution_count": null,
      "metadata": {
        "colab": {
          "base_uri": "https://localhost:8080/"
        },
        "id": "qpr9RTnjcxmb",
        "outputId": "a04938d1-8836-40b2-b8a1-8b432aa5f495"
      },
      "outputs": [
        {
          "output_type": "stream",
          "name": "stdout",
          "text": [
            "test01\n"
          ]
        }
      ],
      "source": [
        "#test01\n",
        "print('test01')"
      ]
    },
    {
      "cell_type": "code",
      "source": [
        "print('test04')"
      ],
      "metadata": {
        "id": "IAQG6_J9c5eL",
        "outputId": "ad02d835-ee2d-4d50-f271-901613de4f50",
        "colab": {
          "base_uri": "https://localhost:8080/"
        }
      },
      "execution_count": null,
      "outputs": [
        {
          "output_type": "stream",
          "name": "stdout",
          "text": [
            "test04\n"
          ]
        }
      ]
    },
    {
      "cell_type": "code",
      "source": [
        "print('test05')"
      ],
      "metadata": {
        "id": "eRI3G1HQexs8",
        "outputId": "780c1752-a2bf-4430-d867-068043e804aa",
        "colab": {
          "base_uri": "https://localhost:8080/"
        }
      },
      "execution_count": 2,
      "outputs": [
        {
          "output_type": "stream",
          "name": "stdout",
          "text": [
            "test05\n"
          ]
        }
      ]
    },
    {
      "cell_type": "code",
      "source": [],
      "metadata": {
        "id": "ELnrZ2tdfbJz"
      },
      "execution_count": null,
      "outputs": []
    }
  ]
}