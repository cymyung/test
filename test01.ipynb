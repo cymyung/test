{
  "nbformat": 4,
  "nbformat_minor": 0,
  "metadata": {
    "colab": {
      "provenance": [],
      "authorship_tag": "ABX9TyP8KwCEnIL/+pGC9E7BMWtw",
      "include_colab_link": true
    },
    "kernelspec": {
      "name": "python3",
      "display_name": "Python 3"
    },
    "language_info": {
      "name": "python"
    }
  },
  "cells": [
    {
      "cell_type": "markdown",
      "metadata": {
        "id": "view-in-github",
        "colab_type": "text"
      },
      "source": [
        "<a href=\"https://colab.research.google.com/github/cymyung/test/blob/main/test01.ipynb\" target=\"_parent\"><img src=\"https://colab.research.google.com/assets/colab-badge.svg\" alt=\"Open In Colab\"/></a>"
      ]
    },
    {
      "cell_type": "code",
      "execution_count": null,
      "metadata": {
        "colab": {
          "base_uri": "https://localhost:8080/"
        },
        "id": "qpr9RTnjcxmb",
        "outputId": "a04938d1-8836-40b2-b8a1-8b432aa5f495"
      },
      "outputs": [
        {
          "output_type": "stream",
          "name": "stdout",
          "text": [
            "test01\n"
          ]
        }
      ],
      "source": [
        "#test01\n",
        "print('test01')"
      ]
    },
    {
      "cell_type": "code",
      "source": [
        "#test03"
      ],
      "metadata": {
        "id": "IAQG6_J9c5eL"
      },
      "execution_count": null,
      "outputs": []
    }
  ]
}